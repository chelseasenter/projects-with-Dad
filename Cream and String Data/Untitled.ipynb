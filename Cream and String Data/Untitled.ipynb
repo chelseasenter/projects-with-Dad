{
 "cells": [
  {
   "cell_type": "markdown",
   "metadata": {},
   "source": [
    "### Dad's Cream and String Data\n",
    "Numbers are a function of months?<p>\n",
    "Units: ?<p>\n",
    "<p>\n",
    "Note for Dad: the # lines are comments (they are skipped when jupyter processes lines)<p>\n",
    "    I will use these to give you information on the whys and whats of each section <p>\n",
    "<p>\n",
    "Enjoy!"
   ]
  },
  {
   "cell_type": "code",
   "execution_count": null,
   "metadata": {},
   "outputs": [],
   "source": [
    "##Importing libraries\n",
    "\n",
    "# Pandas is used for creating and manipulating DataFrames (Lists of lists, Rows + Columns) and Series (Lists)\n",
    "import pandas as pd\n",
    "\n",
    "#I'll be using datetime specifically to convert the excel time stamp to readable dates (just for fun!)\n",
    "import datetime from datetime\n",
    "\n",
    "#matplotlib will be used for data visualization (charts, graphs, etc)\n",
    "import matplotlib.pyplot as plt\n",
    "\n",
    "#scipy stats deals with statistical stuff\n",
    "# i.e. mean median mode, zscore, standard error \n",
    "# it's newest library we've started using\n",
    "import scipy.stats as sts\n",
    "\n",
    "#\n",
    "import numpy as np"
   ]
  },
  {
   "cell_type": "code",
   "execution_count": null,
   "metadata": {},
   "outputs": [],
   "source": []
  }
 ],
 "metadata": {
  "kernelspec": {
   "display_name": "Python 3",
   "language": "python",
   "name": "python3"
  },
  "language_info": {
   "codemirror_mode": {
    "name": "ipython",
    "version": 3
   },
   "file_extension": ".py",
   "mimetype": "text/x-python",
   "name": "python",
   "nbconvert_exporter": "python",
   "pygments_lexer": "ipython3",
   "version": "3.6.10"
  }
 },
 "nbformat": 4,
 "nbformat_minor": 4
}
